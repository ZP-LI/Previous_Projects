{
 "cells": [
  {
   "cell_type": "code",
   "execution_count": 32,
   "metadata": {},
   "outputs": [
    {
     "name": "stdout",
     "output_type": "stream",
     "text": [
      "x= [[[-2  3  4]\n",
      "  [ 3 -4  5]]\n",
      "\n",
      " [[-2  3  4]\n",
      "  [ 3 -4  5]]]\n",
      "out= [[[0.11920292 0.95257413 0.98201379]\n",
      "  [0.95257413 0.01798621 0.99330715]]\n",
      "\n",
      " [[0.11920292 0.95257413 0.98201379]\n",
      "  [0.95257413 0.01798621 0.99330715]]]\n",
      "max_x= [[[0 3 4]\n",
      "  [3 0 5]]\n",
      "\n",
      " [[0 3 4]\n",
      "  [3 0 5]]]\n",
      "max_x_logi= [[[0. 1. 1.]\n",
      "  [1. 0. 1.]]\n",
      "\n",
      " [[0. 1. 1.]\n",
      "  [1. 0. 1.]]]\n",
      "plus= [[[-1  4  5]\n",
      "  [ 5 -2  7]]\n",
      "\n",
      " [[-1  4  5]\n",
      "  [ 5 -2  7]]]\n",
      "reshape_of_x= [[-2  3  4  3 -4  5]\n",
      " [-2  3  4  3 -4  5]]\n"
     ]
    }
   ],
   "source": [
    "import numpy as np\n",
    "\n",
    "x = np.array([[[-2,3,4], [3,-4,5]], [[-2,3,4], [3,-4,5]]])\n",
    "out = 1 / (1 + np.exp(-np.array(x)))\n",
    "print('x=', x)\n",
    "print('out=', out)\n",
    "print('max_x=', np.maximum(x, 0))\n",
    "max_x = np.maximum(x, 0)\n",
    "print('max_x_logi=', np.ones(np.shape(max_x))*(max_x>0))\n",
    "print('plus=', x+np.array([[1], [2]]))\n",
    "x_resh = x.reshape((x.shape[0], int(x.size/x.shape[0])))\n",
    "print('reshape_of_x=', x_resh)\n",
    "x_2 = np.array([[-2,3,4], [3,-4,5]])\n"
   ]
  }
 ],
 "metadata": {
  "interpreter": {
   "hash": "e31aef8222fb7c235d2ed8e74ce17e973738f89b37261e7466b7a63a6dfb1214"
  },
  "kernelspec": {
   "display_name": "Python 3.9.13 64-bit",
   "language": "python",
   "name": "python3"
  },
  "language_info": {
   "codemirror_mode": {
    "name": "ipython",
    "version": 3
   },
   "file_extension": ".py",
   "mimetype": "text/x-python",
   "name": "python",
   "nbconvert_exporter": "python",
   "pygments_lexer": "ipython3",
   "version": "3.9.13"
  },
  "orig_nbformat": 4
 },
 "nbformat": 4,
 "nbformat_minor": 2
}
